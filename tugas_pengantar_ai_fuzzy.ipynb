{
  "nbformat": 4,
  "nbformat_minor": 0,
  "metadata": {
    "colab": {
      "name": "tugas-pengantar-ai-fuzzy.ipynb",
      "provenance": [],
      "collapsed_sections": [],
      "authorship_tag": "ABX9TyMmyPceKc6b3E/A8ePc/Vi+",
      "include_colab_link": true
    },
    "kernelspec": {
      "name": "python3",
      "display_name": "Python 3"
    },
    "language_info": {
      "name": "python"
    }
  },
  "cells": [
    {
      "cell_type": "markdown",
      "metadata": {
        "id": "view-in-github",
        "colab_type": "text"
      },
      "source": [
        "<a href=\"https://colab.research.google.com/github/tsaqifammar/fuzzy-logic-top10-restaurant/blob/main/tugas_pengantar_ai_fuzzy.ipynb\" target=\"_parent\"><img src=\"https://colab.research.google.com/assets/colab-badge.svg\" alt=\"Open In Colab\"/></a>"
      ]
    },
    {
      "cell_type": "markdown",
      "metadata": {
        "id": "_UB8Wld-Yx-b"
      },
      "source": [
        "# **Tugas Pengantar AI 2**\n",
        "\n",
        "### **Kelompok 14 (IF-43-06) :**\n",
        "- Ivan Ryansyach (1301194150)\n",
        "- Muhammad Tsaqif Ammar (1301194222)\n",
        "- Mar'i Fauzan Rambe (1301194204)\n",
        "\n",
        "### **Deskripsi Tugas**\n",
        "\n",
        "Diberikan file `restoran.xls` berupa himpunan data 100 restoran yang ada di kota A dengan dua atribut: **Kualitas pelayanan** (bilangan real 1-100) dan **kualitas makanan** (bilangan real 1-10). Bangunlah sebuah sistem berbasis *fuzzy logic* untuk memilih 10 restoran terbaik di kota A. Sistem membaca masukan file `restoran.xls` dan mengeluarkan output berupa sebuah file `peringkat.xls` yang berisi satu vektor kolom berisi 10 baris angka bernilai integer (bilangan bulat) yang menyatakan nomor baris/record id restoran (1-100) pada file `restoran.xls`."
      ]
    },
    {
      "cell_type": "markdown",
      "metadata": {
        "id": "tLPU6CoTYq82"
      },
      "source": [
        "### **Library yang dibutuhkan**\n"
      ]
    },
    {
      "cell_type": "code",
      "metadata": {
        "id": "0EWqI3BLYMCA"
      },
      "source": [
        "import numpy as np\n",
        "import pandas as pd\n",
        "from matplotlib import pyplot as plt"
      ],
      "execution_count": null,
      "outputs": []
    },
    {
      "cell_type": "markdown",
      "metadata": {
        "id": "pNAHO0-2amaD"
      },
      "source": [
        "### **Mengimport Data Restoran**"
      ]
    },
    {
      "cell_type": "code",
      "metadata": {
        "id": "Ijzy_NiWauYJ",
        "colab": {
          "base_uri": "https://localhost:8080/",
          "height": 424
        },
        "outputId": "cc6fdc4a-616a-4f71-af0c-ec44b02138e5"
      },
      "source": [
        "# Import data restoran\n",
        "data_restoran = pd.read_excel(\"https://github.com/tsaqifammar/fuzzy-logic-top10-restaurant/blob/main/restoran.xlsx?raw=true\")\n",
        "data_restoran"
      ],
      "execution_count": null,
      "outputs": [
        {
          "output_type": "execute_result",
          "data": {
            "text/html": [
              "<div>\n",
              "<style scoped>\n",
              "    .dataframe tbody tr th:only-of-type {\n",
              "        vertical-align: middle;\n",
              "    }\n",
              "\n",
              "    .dataframe tbody tr th {\n",
              "        vertical-align: top;\n",
              "    }\n",
              "\n",
              "    .dataframe thead th {\n",
              "        text-align: right;\n",
              "    }\n",
              "</style>\n",
              "<table border=\"1\" class=\"dataframe\">\n",
              "  <thead>\n",
              "    <tr style=\"text-align: right;\">\n",
              "      <th></th>\n",
              "      <th>id</th>\n",
              "      <th>pelayanan</th>\n",
              "      <th>makanan</th>\n",
              "    </tr>\n",
              "  </thead>\n",
              "  <tbody>\n",
              "    <tr>\n",
              "      <th>0</th>\n",
              "      <td>1</td>\n",
              "      <td>58</td>\n",
              "      <td>7</td>\n",
              "    </tr>\n",
              "    <tr>\n",
              "      <th>1</th>\n",
              "      <td>2</td>\n",
              "      <td>54</td>\n",
              "      <td>1</td>\n",
              "    </tr>\n",
              "    <tr>\n",
              "      <th>2</th>\n",
              "      <td>3</td>\n",
              "      <td>98</td>\n",
              "      <td>2</td>\n",
              "    </tr>\n",
              "    <tr>\n",
              "      <th>3</th>\n",
              "      <td>4</td>\n",
              "      <td>52</td>\n",
              "      <td>4</td>\n",
              "    </tr>\n",
              "    <tr>\n",
              "      <th>4</th>\n",
              "      <td>5</td>\n",
              "      <td>11</td>\n",
              "      <td>4</td>\n",
              "    </tr>\n",
              "    <tr>\n",
              "      <th>...</th>\n",
              "      <td>...</td>\n",
              "      <td>...</td>\n",
              "      <td>...</td>\n",
              "    </tr>\n",
              "    <tr>\n",
              "      <th>95</th>\n",
              "      <td>96</td>\n",
              "      <td>30</td>\n",
              "      <td>1</td>\n",
              "    </tr>\n",
              "    <tr>\n",
              "      <th>96</th>\n",
              "      <td>97</td>\n",
              "      <td>25</td>\n",
              "      <td>3</td>\n",
              "    </tr>\n",
              "    <tr>\n",
              "      <th>97</th>\n",
              "      <td>98</td>\n",
              "      <td>27</td>\n",
              "      <td>10</td>\n",
              "    </tr>\n",
              "    <tr>\n",
              "      <th>98</th>\n",
              "      <td>99</td>\n",
              "      <td>8</td>\n",
              "      <td>6</td>\n",
              "    </tr>\n",
              "    <tr>\n",
              "      <th>99</th>\n",
              "      <td>100</td>\n",
              "      <td>11</td>\n",
              "      <td>8</td>\n",
              "    </tr>\n",
              "  </tbody>\n",
              "</table>\n",
              "<p>100 rows × 3 columns</p>\n",
              "</div>"
            ],
            "text/plain": [
              "     id  pelayanan  makanan\n",
              "0     1         58        7\n",
              "1     2         54        1\n",
              "2     3         98        2\n",
              "3     4         52        4\n",
              "4     5         11        4\n",
              "..  ...        ...      ...\n",
              "95   96         30        1\n",
              "96   97         25        3\n",
              "97   98         27       10\n",
              "98   99          8        6\n",
              "99  100         11        8\n",
              "\n",
              "[100 rows x 3 columns]"
            ]
          },
          "metadata": {
            "tags": []
          },
          "execution_count": 2
        }
      ]
    },
    {
      "cell_type": "markdown",
      "metadata": {
        "id": "iIUFB2VHlJdE"
      },
      "source": [
        "### **Fungsi Keanggotaan**"
      ]
    },
    {
      "cell_type": "code",
      "metadata": {
        "id": "_14GJNDQlJD1"
      },
      "source": [
        "def trapesium(x, a, b, c, d):\n",
        "  if x <= a :\n",
        "    if a == b :\n",
        "      return 1\n",
        "    return 0\n",
        "  elif x >= d :\n",
        "    if c == d :\n",
        "      return 1\n",
        "    return 0\n",
        "  elif a < x < b :\n",
        "    return (x - a)/(b - a)\n",
        "  elif b <= x <= c :\n",
        "    return 1\n",
        "  return -(x - d)/(d-c)\n",
        "\n",
        "def segitiga(x, a, b, c):\n",
        "  if x <= a or x >= c :\n",
        "    return 0\n",
        "  elif a < x <= b :\n",
        "    return (x - a)/(b - a)\n",
        "  return -(x - c)/(c - b)"
      ],
      "execution_count": null,
      "outputs": []
    },
    {
      "cell_type": "markdown",
      "metadata": {
        "id": "ufMRLkcDbhQ6"
      },
      "source": [
        "### **Fungsi Keanggotaan Kualitas Pelayanan**\n",
        "\n",
        "Diberikan input **Kualitas Pelayanan** dengan nilai bilangan real antara 1-100. Berikut bentuk dan batas tiap nilai linguistik untuk fungsi keanggotaan input Kualitas Pelayanan : \n",
        "* Sangat Buruk (Trapesium) : 0-0-10-30\n",
        "* Buruk (Segitiga) : 10-30-50\n",
        "* Sedang (Segitiga) : 30-50-70\n",
        "* Baik (Segitiga) : 50-70-90\n",
        "* Sangat Baik (Trapesium) : 70-90-100-100"
      ]
    },
    {
      "cell_type": "code",
      "metadata": {
        "id": "QLkfu--Vbg31",
        "colab": {
          "base_uri": "https://localhost:8080/",
          "height": 281
        },
        "outputId": "bf544a24-2056-46b8-b2bd-5ca36a88dbff"
      },
      "source": [
        "# Batas-batas fungsi keanggotaan tiap nilai linguistik\n",
        "batas_p = [\n",
        "  [0,0,10,30],\n",
        "  [10,30,50],\n",
        "  [30,50,70],\n",
        "  [50,70,90],\n",
        "  [70,90,100,100]\n",
        "]\n",
        "\n",
        "# Fungsi Keanggotaan untuk tiap nilai linguistik\n",
        "fk_p = [\n",
        "  lambda x : trapesium(x, *batas_p[0]),\n",
        "  lambda x : segitiga(x, *batas_p[1]),\n",
        "  lambda x : segitiga(x, *batas_p[2]),\n",
        "  lambda x : segitiga(x, *batas_p[3]),\n",
        "  lambda x : trapesium(x, *batas_p[4])\n",
        "]\n",
        "\n",
        "# Graf FK Kualitas Pelayanan\n",
        "labels = [\"Sangat Buruk\", \"Buruk\", \"Sedang\", \"Baik\", \"Sangat Baik\"]\n",
        "p_x = np.linspace(0,100,1000)\n",
        "for i in range(5):\n",
        "  plt.plot(p_x, [fk_p[i](x) for x in p_x], label=labels[i])\n",
        "plt.title(\"Fungsi Keanggotaan Kualitas Pelayanan\")\n",
        "plt.legend(bbox_to_anchor=(1.04,1))\n",
        "plt.show()"
      ],
      "execution_count": null,
      "outputs": [
        {
          "output_type": "display_data",
          "data": {
            "image/png": "[encoded data removed]",
            "text/plain": [
              "<Figure size 432x288 with 1 Axes>"
            ]
          },
          "metadata": {
            "tags": [],
            "needs_background": "light"
          }
        }
      ]
    },
    {
      "cell_type": "markdown",
      "metadata": {
        "id": "jLjR9l7abldJ"
      },
      "source": [
        "### **Fungsi Keanggotaan Kualitas Makanan**\n",
        "\n",
        "Diberikan input **Kualitas Makanan** dengan nilai bilangan real antara 1-10. Berikut bentuk dan batas tiap nilai linguistik untuk fungsi keanggotaan input Kualitas Pelayanan : \n",
        "* Sangat Tidak Lezat (Trapesium) : 0-0-1-3\n",
        "* Tidak Lezat (Segitiga) : 1-3-5\n",
        "* Rata-rata (Segitiga) : 3-5-7\n",
        "* Lezat (Segitiga) : 5-7-9\n",
        "* Sangat Lezat (Trapesium) : 7-9-10-10"
      ]
    },
    {
      "cell_type": "code",
      "metadata": {
        "id": "_7nmfQQ2cACC",
        "colab": {
          "base_uri": "https://localhost:8080/",
          "height": 281
        },
        "outputId": "73751705-c6fd-43cc-a547-79a92a051ed0"
      },
      "source": [
        "batas_m = [\n",
        "  [0,0,1,3],\n",
        "  [1,3,5],\n",
        "  [3,5,7],\n",
        "  [5,7,9],\n",
        "  [7,9,10,10]\n",
        "]\n",
        "\n",
        "fk_m = [\n",
        "      lambda x : trapesium(x, *batas_m[0]),\n",
        "      lambda x : segitiga(x, *batas_m[1]),\n",
        "      lambda x : segitiga(x, *batas_m[2]),\n",
        "      lambda x : segitiga(x, *batas_m[3]),\n",
        "      lambda x : trapesium(x, *batas_m[4])\n",
        "]\n",
        "\n",
        "# Graf FK Kualitas Makanan\n",
        "labels = [\"Sangat Tidak Lezat\", \"Tidak Lezat\", \"Rata-rata\", \"Lezat\", \"Sangat Lezat\"]\n",
        "\n",
        "m_x = np.linspace(0,10,100)\n",
        "for i in range(5):\n",
        "  plt.plot(m_x, [fk_m[i](x) for x in m_x], label=labels[i])\n",
        "plt.title(\"Fungsi Keanggotaan Kualitas Makanan\")\n",
        "plt.legend(bbox_to_anchor=(1.04,1))\n",
        "plt.show()"
      ],
      "execution_count": null,
      "outputs": [
        {
          "output_type": "display_data",
          "data": {
            "image/png": "[encoded data removed]",
            "text/plain": [
              "<Figure size 432x288 with 1 Axes>"
            ]
          },
          "metadata": {
            "tags": [],
            "needs_background": "light"
          }
        }
      ]
    },
    {
      "cell_type": "markdown",
      "metadata": {
        "id": "htQcbb0WMh7c"
      },
      "source": [
        "### **Fuzzifikasi**"
      ]
    },
    {
      "cell_type": "code",
      "metadata": {
        "id": "czn12DgUMmAf"
      },
      "source": [
        "def fuzzifikasi(p, m):\n",
        "  member_p = [0]*5\n",
        "  member_m = [0]*5\n",
        "\n",
        "  # Untuk tiap kategori kualitas pelayanan, hitung membership value nya\n",
        "  for i in range(5):\n",
        "    member_p[i] = fk_p[i](p)\n",
        "\n",
        "  # Untuk tiap kategori kualitas makanan, hitung membership value nya\n",
        "  for i in range(5):\n",
        "    member_m[i] = fk_m[i](m)\n",
        "    \n",
        "  return member_p, member_m"
      ],
      "execution_count": null,
      "outputs": []
    },
    {
      "cell_type": "markdown",
      "metadata": {
        "id": "mvXdeQIjceQ7"
      },
      "source": [
        "### **Aturan Inferensi**\n",
        "\n",
        "| **P\\M**          | **Sangat Tidak Lezat** | **Tidak Lezat**   | **Rata-rata** | **Lezat**        | **Sangat Lezat** |\n",
        "|-------------|-------------------|--------------|------------|-------------|-------------|\n",
        "| **Sangat Buruk** | Sangat Buruk      | Sangat Buruk | Buruk      | Buruk       | Sedang      |\n",
        "| **Buruk**        | Sangat Buruk      | Buruk        | Buruk      | Sedang      | Baik        |\n",
        "| **Sedang**       | Buruk             | Buruk        | Sedang     | Baik        | Baik        |\n",
        "| **Baik**         | Buruk             | Sedang       | Baik       | Baik        | Sangat Baik |\n",
        "| **Sangat Baik**  | Sedang            | Baik         | Baik       | Sangat Baik | Sangat Baik |\n",
        "\n",
        "Pada code di bawah, kami melabeli tiap kategori hasil inferensi dengan angka sebagai berikut :\n",
        "* 0 : Sangat Buruk\n",
        "* 1 : Buruk\n",
        "* 2 : Sedang\n",
        "* 3 : Baik\n",
        "* 4 : Sangat Baik\n",
        "\n",
        "Ini dilakukan untuk memudahkan indexing dengan array pada code."
      ]
    },
    {
      "cell_type": "code",
      "metadata": {
        "id": "KU1g1jLPchGz"
      },
      "source": [
        "# Tentuin aturan inferensi\n",
        "inferensi = [\n",
        "  [0,0,1,1,2],\n",
        "  [0,1,1,2,3],\n",
        "  [1,1,2,3,3],\n",
        "  [1,2,3,3,4],\n",
        "  [2,3,3,4,4]\n",
        "]\n",
        "\n",
        "def keanggotaan_inferensi(p, m):\n",
        "  member_p, member_m = fuzzifikasi(p, m)\n",
        "\n",
        "  # Untuk tiap kategori inferensi, hitung membership value nya\n",
        "  member_inf = [0]*5\n",
        "  for i in range(5):\n",
        "    for j in range(5):\n",
        "      mini = min(member_p[i], member_m[j])\n",
        "      kat_inf = inferensi[i][j]\n",
        "      if mini > member_inf[kat_inf]:\n",
        "        member_inf[kat_inf] = mini\n",
        "\n",
        "  return member_inf"
      ],
      "execution_count": null,
      "outputs": []
    },
    {
      "cell_type": "markdown",
      "metadata": {
        "id": "7APBvb0Ichqx"
      },
      "source": [
        "### **Metode Defuzzifikasi**\n",
        "\n",
        "Disini kami menggunakan metode defuzzifikasi dengan model Sugeno. Adapun multiplier untuk tiap kategori hasil inferensi :\n",
        "* Sangat Buruk : 20\n",
        "* Buruk : 40\n",
        "* Sedang : 60\n",
        "* Baik : 80\n",
        "* Sangat Baik : 100"
      ]
    },
    {
      "cell_type": "code",
      "metadata": {
        "id": "y-3yfulfcl5y"
      },
      "source": [
        "def defuzzifikasi(member_inf):\n",
        "  # Dengan model sugeno\n",
        "  mul = [20, 40, 60, 80, 100]\n",
        "  score = sum([member_inf[i]*mul[i] for i in range(5)])\n",
        "  return score/sum(member_inf)"
      ],
      "execution_count": null,
      "outputs": []
    },
    {
      "cell_type": "markdown",
      "metadata": {
        "id": "RTC8IVkXg3Dm"
      },
      "source": [
        "### **Menghitung Nilai Kelayakan**"
      ]
    },
    {
      "cell_type": "code",
      "metadata": {
        "id": "ePLTOVaig7Hy"
      },
      "source": [
        "def compute_score(p, m):\n",
        "  member_inf = keanggotaan_inferensi(p,m)\n",
        "  return defuzzifikasi(member_inf)"
      ],
      "execution_count": null,
      "outputs": []
    },
    {
      "cell_type": "markdown",
      "metadata": {
        "id": "2UFYX9hjcpbi"
      },
      "source": [
        "### **Seleksi 10 Restoran Terbaik**"
      ]
    },
    {
      "cell_type": "code",
      "metadata": {
        "id": "N2IAIbXncwJ6",
        "colab": {
          "base_uri": "https://localhost:8080/",
          "height": 363
        },
        "outputId": "a1c17634-c22f-4a24-dcf4-67e9c4cabdcf"
      },
      "source": [
        "data_restoran['nilai_kelayakan'] = data_restoran.apply(lambda row : compute_score(row.pelayanan, row.makanan), axis=1)\n",
        "\n",
        "top_restoran = data_restoran.sort_values(by=['nilai_kelayakan'], ascending=False)\n",
        "\n",
        "top_restoran.head(10)\n",
        "\n",
        "# Export 'peringkat.xls' berisi id 10 restoran terbaik\n",
        "top_restoran = top_restoran.drop([\"pelayanan\", \"makanan\", \"nilai_kelayakan\"], axis=1)\n",
        "top_restoran[0:10].to_excel(\"peringkat.xls\", index=False, header=False)"
      ],
      "execution_count": null,
      "outputs": [
        {
          "output_type": "execute_result",
          "data": {
            "text/html": [
              "<div>\n",
              "<style scoped>\n",
              "    .dataframe tbody tr th:only-of-type {\n",
              "        vertical-align: middle;\n",
              "    }\n",
              "\n",
              "    .dataframe tbody tr th {\n",
              "        vertical-align: top;\n",
              "    }\n",
              "\n",
              "    .dataframe thead th {\n",
              "        text-align: right;\n",
              "    }\n",
              "</style>\n",
              "<table border=\"1\" class=\"dataframe\">\n",
              "  <thead>\n",
              "    <tr style=\"text-align: right;\">\n",
              "      <th></th>\n",
              "      <th>id</th>\n",
              "      <th>pelayanan</th>\n",
              "      <th>makanan</th>\n",
              "      <th>nilai_kelayakan</th>\n",
              "    </tr>\n",
              "  </thead>\n",
              "  <tbody>\n",
              "    <tr>\n",
              "      <th>23</th>\n",
              "      <td>24</td>\n",
              "      <td>100</td>\n",
              "      <td>9</td>\n",
              "      <td>100.0</td>\n",
              "    </tr>\n",
              "    <tr>\n",
              "      <th>21</th>\n",
              "      <td>22</td>\n",
              "      <td>79</td>\n",
              "      <td>9</td>\n",
              "      <td>100.0</td>\n",
              "    </tr>\n",
              "    <tr>\n",
              "      <th>30</th>\n",
              "      <td>31</td>\n",
              "      <td>74</td>\n",
              "      <td>9</td>\n",
              "      <td>100.0</td>\n",
              "    </tr>\n",
              "    <tr>\n",
              "      <th>78</th>\n",
              "      <td>79</td>\n",
              "      <td>87</td>\n",
              "      <td>9</td>\n",
              "      <td>100.0</td>\n",
              "    </tr>\n",
              "    <tr>\n",
              "      <th>68</th>\n",
              "      <td>69</td>\n",
              "      <td>86</td>\n",
              "      <td>10</td>\n",
              "      <td>100.0</td>\n",
              "    </tr>\n",
              "    <tr>\n",
              "      <th>41</th>\n",
              "      <td>42</td>\n",
              "      <td>94</td>\n",
              "      <td>10</td>\n",
              "      <td>100.0</td>\n",
              "    </tr>\n",
              "    <tr>\n",
              "      <th>53</th>\n",
              "      <td>54</td>\n",
              "      <td>64</td>\n",
              "      <td>10</td>\n",
              "      <td>94.0</td>\n",
              "    </tr>\n",
              "    <tr>\n",
              "      <th>24</th>\n",
              "      <td>25</td>\n",
              "      <td>61</td>\n",
              "      <td>10</td>\n",
              "      <td>91.0</td>\n",
              "    </tr>\n",
              "    <tr>\n",
              "      <th>94</th>\n",
              "      <td>95</td>\n",
              "      <td>63</td>\n",
              "      <td>8</td>\n",
              "      <td>90.0</td>\n",
              "    </tr>\n",
              "    <tr>\n",
              "      <th>82</th>\n",
              "      <td>83</td>\n",
              "      <td>69</td>\n",
              "      <td>8</td>\n",
              "      <td>90.0</td>\n",
              "    </tr>\n",
              "  </tbody>\n",
              "</table>\n",
              "</div>"
            ],
            "text/plain": [
              "    id  pelayanan  makanan  nilai_kelayakan\n",
              "23  24        100        9            100.0\n",
              "21  22         79        9            100.0\n",
              "30  31         74        9            100.0\n",
              "78  79         87        9            100.0\n",
              "68  69         86       10            100.0\n",
              "41  42         94       10            100.0\n",
              "53  54         64       10             94.0\n",
              "24  25         61       10             91.0\n",
              "94  95         63        8             90.0\n",
              "82  83         69        8             90.0"
            ]
          },
          "metadata": {
            "tags": []
          },
          "execution_count": 10
        }
      ]
    }
  ]
}